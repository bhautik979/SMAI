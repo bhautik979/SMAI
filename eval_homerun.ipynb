{
  "metadata": {
    "kernelspec": {
      "language": "python",
      "display_name": "Python 3",
      "name": "python3"
    },
    "language_info": {
      "pygments_lexer": "ipython3",
      "nbconvert_exporter": "python",
      "version": "3.6.4",
      "file_extension": ".py",
      "codemirror_mode": {
        "name": "ipython",
        "version": 3
      },
      "name": "python",
      "mimetype": "text/x-python"
    },
    "kaggle": {
      "accelerator": "none",
      "dataSources": [],
      "isInternetEnabled": true,
      "language": "python",
      "sourceType": "notebook",
      "isGpuEnabled": false
    },
    "colab": {
      "provenance": []
    }
  },
  "nbformat_minor": 0,
  "nbformat": 4,
  "cells": [
    {
      "cell_type": "code",
      "source": [
        "# !pip install category_encoders\n",
        "# !pip install pycaret[full]"
      ],
      "metadata": {
        "id": "IfnOW3KDYPXn"
      },
      "execution_count": 18,
      "outputs": []
    },
    {
      "cell_type": "code",
      "source": [
        "import pandas as pd\n",
        "import numpy as np\n",
        "import seaborn as sns\n",
        "import matplotlib.pyplot as plt\n",
        "from sklearn.preprocessing import LabelEncoder\n",
        "from category_encoders import TargetEncoder\n",
        "from pycaret.classification import load_model, predict_model\n",
        "from sklearn.metrics import classification_report, confusion_matrix\n",
        "\n",
        "import os\n",
        "import warnings\n",
        "warnings.filterwarnings('ignore')\n",
        "\n",
        "\n",
        "# Set paths\n",
        "BASE_DIR = '/content'\n",
        "MODEL_PATH = os.path.join(BASE_DIR, \"no_SMOTE_model_optimal_weights\")\n",
        "INPUT_CSV_PATH = os.path.join(BASE_DIR, \"b_test.csv\")  # Path to your unseen test data"
      ],
      "metadata": {
        "trusted": true,
        "id": "RbumW0h4XxB7"
      },
      "outputs": [],
      "execution_count": 19
    },
    {
      "cell_type": "code",
      "source": [
        "\n",
        "# Load the saved model\n",
        "model = load_model(MODEL_PATH)\n"
      ],
      "metadata": {
        "colab": {
          "base_uri": "https://localhost:8080/"
        },
        "id": "zGeTs2Ffd0c0",
        "outputId": "541719f7-60a6-4df7-a32b-fce6b78dad4d"
      },
      "execution_count": 20,
      "outputs": [
        {
          "output_type": "stream",
          "name": "stdout",
          "text": [
            "Transformation Pipeline and Model Successfully Loaded\n"
          ]
        }
      ]
    },
    {
      "cell_type": "code",
      "source": [
        "\n",
        "# Load unseen data\n",
        "input_df = pd.read_csv(INPUT_CSV_PATH)\n"
      ],
      "metadata": {
        "id": "tR_v75C8d2NO"
      },
      "execution_count": 21,
      "outputs": []
    },
    {
      "cell_type": "code",
      "source": [
        "\n",
        "\n",
        "# ===== Preprocessing (Same as Training Phase) =====\n",
        "\n",
        "# Encode low-cardinality categorical features\n",
        "categorical_cols = ['stand', 'p_throws', 'inning_topbot', 'if_fielding_alignment', 'of_fielding_alignment']\n",
        "for col in categorical_cols:\n",
        "    le = LabelEncoder()\n",
        "    le.fit(input_df[col].astype(str))\n",
        "    input_df[col] = le.transform(input_df[col].astype(str))\n",
        "\n",
        "# Target encoding for high-cardinality features (use dummy target values temporarily)\n",
        "te = TargetEncoder(cols=['home_team', 'pitch_type'])\n",
        "# Use dummy values for fitting because real target isn't available\n",
        "dummy_target = np.zeros(len(input_df))\n",
        "input_df = te.fit_transform(input_df, dummy_target)\n",
        "\n",
        "# Convert boolean columns to int\n",
        "for col in ['on_3b', 'on_2b', 'on_1b']:\n",
        "    input_df[col] = input_df[col].astype(int)\n",
        "\n",
        "# ===== Prediction =====\n",
        "predictions = predict_model(model, data=input_df)\n",
        "\n",
        "# Display first few predictions\n",
        "print(predictions[['prediction_label', 'prediction_score']].head())\n",
        "\n",
        "# ===== Performance Metrics (If actual values are available) =====\n",
        "if 'is_hr' in input_df.columns:\n",
        "    print(\"\\nClassification Report:\")\n",
        "    print(classification_report(input_df['is_hr'], predictions['prediction_label']))\n",
        "\n",
        "    # Confusion Matrix\n",
        "    cm = confusion_matrix(input_df['is_hr'], predictions['prediction_label'])\n",
        "    plt.figure(figsize=(6,4), facecolor=\"#f5a2ee\")\n",
        "    sns.heatmap(cm, annot=True, fmt='d', cmap='coolwarm')\n",
        "    plt.title('Confusion Matrix')\n",
        "    plt.xlabel('Predicted')\n",
        "    plt.ylabel('Actual')\n",
        "    plt.show()\n",
        "else:\n",
        "    print(\"Note: Actual target values ('is_hr') not present in input.csv. Skipping performance metrics.\")\n",
        "\n",
        "# ===== Covariance Matrix of Input Features =====\n",
        "plt.figure(figsize=(10, 6), facecolor=\"#f5a2ee\")\n",
        "plt.show()\n"
      ],
      "metadata": {
        "trusted": true,
        "colab": {
          "base_uri": "https://localhost:8080/",
          "height": 720
        },
        "id": "pVoPg9LdXxB8",
        "outputId": "0fa82daf-af77-4bf9-b241-c30d4ffa3b6c"
      },
      "outputs": [
        {
          "output_type": "stream",
          "name": "stdout",
          "text": [
            "   prediction_label  prediction_score\n",
            "0                 0            1.0000\n",
            "1                 0            1.0000\n",
            "2                 0            1.0000\n",
            "3                 0            0.9998\n",
            "4                 0            0.9998\n",
            "\n",
            "Classification Report:\n",
            "              precision    recall  f1-score   support\n",
            "\n",
            "           0       0.98      1.00      0.99    124633\n",
            "           1       0.92      0.68      0.78      6123\n",
            "\n",
            "    accuracy                           0.98    130756\n",
            "   macro avg       0.95      0.84      0.89    130756\n",
            "weighted avg       0.98      0.98      0.98    130756\n",
            "\n"
          ]
        },
        {
          "output_type": "display_data",
          "data": {
            "text/plain": [
              "<Figure size 600x400 with 2 Axes>"
            ],
            "image/png": "[encoded data removed]"
          },
          "metadata": {}
        },
        {
          "output_type": "display_data",
          "data": {
            "text/plain": [
              "<Figure size 1000x600 with 0 Axes>"
            ]
          },
          "metadata": {}
        }
      ],
      "execution_count": 22
    }
  ]
}