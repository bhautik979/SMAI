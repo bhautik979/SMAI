{
  "metadata": {
    "kernelspec": {
      "language": "python",
      "display_name": "Python 3",
      "name": "python3"
    },
    "language_info": {
      "pygments_lexer": "ipython3",
      "nbconvert_exporter": "python",
      "version": "3.6.4",
      "file_extension": ".py",
      "codemirror_mode": {
        "name": "ipython",
        "version": 3
      },
      "name": "python",
      "mimetype": "text/x-python"
    },
    "kaggle": {
      "accelerator": "none",
      "dataSources": [],
      "isInternetEnabled": true,
      "language": "python",
      "sourceType": "notebook",
      "isGpuEnabled": false
    },
    "colab": {
      "provenance": []
    }
  },
  "nbformat_minor": 0,
  "nbformat": 4,
  "cells": [
    {
      "cell_type": "code",
      "source": [
        "# !pip install category_encoders\n",
        "# !pip install pycaret[full]"
      ],
      "metadata": {
        "id": "IfnOW3KDYPXn"
      },
      "execution_count": 18,
      "outputs": []
    },
    {
      "cell_type": "code",
      "source": [
        "import pandas as pd\n",
        "import numpy as np\n",
        "import seaborn as sns\n",
        "import matplotlib.pyplot as plt\n",
        "from sklearn.preprocessing import LabelEncoder\n",
        "from category_encoders import TargetEncoder\n",
        "from pycaret.classification import load_model, predict_model\n",
        "from sklearn.metrics import classification_report, confusion_matrix\n",
        "\n",
        "import os\n",
        "import warnings\n",
        "warnings.filterwarnings('ignore')\n",
        "\n",
        "\n",
        "# Set paths\n",
        "BASE_DIR = '/content'\n",
        "MODEL_PATH = os.path.join(BASE_DIR, \"no_SMOTE_model_optimal_weights\")\n",
        "INPUT_CSV_PATH = os.path.join(BASE_DIR, \"b_test.csv\")  # Path to your unseen test data"
      ],
      "metadata": {
        "trusted": true,
        "id": "RbumW0h4XxB7"
      },
      "outputs": [],
      "execution_count": 19
    },
    {
      "cell_type": "code",
      "source": [
        "\n",
        "# Load the saved model\n",
        "model = load_model(MODEL_PATH)\n"
      ],
      "metadata": {
        "colab": {
          "base_uri": "https://localhost:8080/"
        },
        "id": "zGeTs2Ffd0c0",
        "outputId": "541719f7-60a6-4df7-a32b-fce6b78dad4d"
      },
      "execution_count": 20,
      "outputs": [
        {
          "output_type": "stream",
          "name": "stdout",
          "text": [
            "Transformation Pipeline and Model Successfully Loaded\n"
          ]
        }
      ]
    },
    {
      "cell_type": "code",
      "source": [
        "\n",
        "# Load unseen data\n",
        "input_df = pd.read_csv(INPUT_CSV_PATH)\n"
      ],
      "metadata": {
        "id": "tR_v75C8d2NO"
      },
      "execution_count": 28,
      "outputs": []
    },
    {
      "cell_type": "code",
      "source": [
        "\n",
        "\n",
        "# Drop target column if present\n",
        "if 'is_hr' in input_df.columns:\n",
        "    input_df = input_df.drop(columns=['is_hr'])\n",
        "\n",
        "# ===== Preprocessing =====\n",
        "# Encode categorical features\n",
        "categorical_cols = ['stand', 'p_throws', 'inning_topbot', 'if_fielding_alignment', 'of_fielding_alignment']\n",
        "for col in categorical_cols:\n",
        "    le = LabelEncoder()\n",
        "    le.fit(input_df[col].astype(str))\n",
        "    input_df[col] = le.transform(input_df[col].astype(str))\n",
        "\n",
        "# Target encoding for high-cardinality features (fit with dummy target)\n",
        "te = TargetEncoder(cols=['home_team', 'pitch_type'])\n",
        "dummy_target = np.zeros(len(input_df))\n",
        "input_df = te.fit_transform(input_df, dummy_target)\n",
        "\n",
        "# Convert boolean columns to int\n",
        "for col in ['on_3b', 'on_2b', 'on_1b']:\n",
        "    input_df[col] = input_df[col].astype(int)\n",
        "\n",
        "# ===== Predict only on first 5 rows =====\n",
        "subset = input_df.head(5)\n",
        "predictions = predict_model(model, data=subset)\n",
        "\n",
        "# Show results\n",
        "print(predictions[['prediction_label', 'prediction_score']])\n"
      ],
      "metadata": {
        "trusted": true,
        "colab": {
          "base_uri": "https://localhost:8080/"
        },
        "id": "pVoPg9LdXxB8",
        "outputId": "c6807886-7777-446a-e54f-414abbc12feb"
      },
      "outputs": [
        {
          "output_type": "stream",
          "name": "stdout",
          "text": [
            "   prediction_label  prediction_score\n",
            "0                 0            1.0000\n",
            "1                 0            1.0000\n",
            "2                 0            1.0000\n",
            "3                 0            0.9998\n",
            "4                 0            0.9998\n"
          ]
        }
      ],
      "execution_count": 29
    }
  ]
}